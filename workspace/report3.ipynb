{
 "cells": [
  {
   "cell_type": "code",
   "execution_count": 2,
   "id": "bebe6efc-df1d-4e4d-83e7-af7c68e1f58c",
   "metadata": {},
   "outputs": [],
   "source": [
    "import numpy as np\n",
    "import pandas as pd\n",
    "import matplotlib.pyplot as plt\n",
    "from scipy import stats"
   ]
  },
  {
   "cell_type": "code",
   "execution_count": 3,
   "id": "888b0658-b006-4c5b-a170-faf33d53317b",
   "metadata": {},
   "outputs": [
    {
     "data": {
      "text/plain": [
       "Ttest_indResult(statistic=4.194601980842583, pvalue=0.00017019060142220983)"
      ]
     },
     "execution_count": 3,
     "metadata": {},
     "output_type": "execute_result"
    }
   ],
   "source": [
    "df = pd.read_table(\"sample1.txt\")\n",
    "\n",
    "#G1:27 samples, G2:11 samples\n",
    "g1 = df.iloc[334,1:28]\n",
    "g2 = df.iloc[334,27:38]\n",
    "\n",
    "##print(g1)\n",
    "##print(g2)\n",
    "\n",
    "stats.ttest_ind(g1,g2,equal_var = True)"
   ]
  },
  {
   "cell_type": "code",
   "execution_count": null,
   "id": "d31733c9-b3a5-4962-ae83-61b72b2e037e",
   "metadata": {},
   "outputs": [],
   "source": []
  }
 ],
 "metadata": {
  "kernelspec": {
   "display_name": "Python 3 (ipykernel)",
   "language": "python",
   "name": "python3"
  },
  "language_info": {
   "codemirror_mode": {
    "name": "ipython",
    "version": 3
   },
   "file_extension": ".py",
   "mimetype": "text/x-python",
   "name": "python",
   "nbconvert_exporter": "python",
   "pygments_lexer": "ipython3",
   "version": "3.9.7"
  }
 },
 "nbformat": 4,
 "nbformat_minor": 5
}
